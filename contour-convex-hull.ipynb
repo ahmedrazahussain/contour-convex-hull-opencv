{
 "cells": [
  {
   "cell_type": "code",
   "execution_count": 1,
   "id": "9850e719-d0e2-40a3-bdb1-c1f23af00635",
   "metadata": {},
   "outputs": [],
   "source": [
    "import cv2 as cv\n",
    "import numpy as np\n",
    "\n",
    "img = cv.imread('hand.jpeg')\n",
    "img1 = cv.cvtColor(img, cv.COLOR_BGR2GRAY)\n",
    "\n",
    "_, th = cv.threshold(img1, 230, 255, cv.THRESH_BINARY_INV)\n",
    "# k = np.ones((2,2), np.uint8)\n",
    "d = cv.dilate(th, (2,2), 3)\n",
    "cnt, h = cv.findContours(d, cv.RETR_EXTERNAL, cv.CHAIN_APPROX_SIMPLE)\n",
    "i = cv.drawContours(img, cnt, -1, (255,0,0), 2)\n",
    "\n",
    "for c in cnt:\n",
    "    e = 0.00001*cv.arcLength(c, True)\n",
    "    data = cv.approxPolyDP(c, e, True)\n",
    "    hull = cv.convexHull(data)\n",
    "    cv.drawContours(img, [hull], -1, (0, 255, 0), 2)\n",
    "\n",
    "\n",
    "if len(cnt)>0:\n",
    "    mcnt = max(cnt, key = cv.contourArea)\n",
    "\n",
    "    if len(mcnt)>=3:\n",
    "        hull = cv.convexHull(mcnt, returnPoints=False)\n",
    "\n",
    "        if hull is not None and len(hull)>2:\n",
    "            defect = cv.convexityDefects(mcnt, hull)\n",
    "            for i in range(defect.shape[0]):\n",
    "                s,e,f,d = defect[i, 0]\n",
    "                start = tuple(mcnt[s][0])\n",
    "                end = tuple(mcnt[e][0])\n",
    "                far = tuple(mcnt[f][0])\n",
    "                cv.circle(img, far, 5, (0,0,255), -1)\n",
    "    \n",
    "\n",
    "cv.imshow('th', th)\n",
    "cv.imshow('img', img)\n",
    "cv.waitKey(0)\n",
    "cv.destroyAllWindows()"
   ]
  }
 ],
 "metadata": {
  "kernelspec": {
   "display_name": "Python 3 (ipykernel)",
   "language": "python",
   "name": "python3"
  },
  "language_info": {
   "codemirror_mode": {
    "name": "ipython",
    "version": 3
   },
   "file_extension": ".py",
   "mimetype": "text/x-python",
   "name": "python",
   "nbconvert_exporter": "python",
   "pygments_lexer": "ipython3",
   "version": "3.13.2"
  }
 },
 "nbformat": 4,
 "nbformat_minor": 5
}
